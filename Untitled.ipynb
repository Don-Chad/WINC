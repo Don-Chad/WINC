{
 "cells": [
  {
   "cell_type": "code",
   "execution_count": 3,
   "id": "9ff97bbc",
   "metadata": {
    "chatgpt_cell": "query",
    "chatgpt_thread": ""
   },
   "outputs": [],
   "source": [
    "##### chat \n"
   ]
  },
  {
   "cell_type": "markdown",
   "id": "c27cae51",
   "metadata": {},
   "source": [
    "Please login to [ChatGPT first](https://chat.openai.com)"
   ]
  },
  {
   "cell_type": "markdown",
   "id": "3ea840e7",
   "metadata": {},
   "source": [
    "Please login to [ChatGPT first](https://chat.openai.com)"
   ]
  },
  {
   "cell_type": "code",
   "execution_count": null,
   "id": "c7e6f3dd",
   "metadata": {},
   "outputs": [],
   "source": []
  }
 ],
 "metadata": {
  "kernelspec": {
   "display_name": "Python 3 (ipykernel)",
   "language": "python",
   "name": "python3"
  },
  "language_info": {
   "codemirror_mode": {
    "name": "ipython",
    "version": 3
   },
   "file_extension": ".py",
   "mimetype": "text/x-python",
   "name": "python",
   "nbconvert_exporter": "python",
   "pygments_lexer": "ipython3",
   "version": "3.9.12"
  }
 },
 "nbformat": 4,
 "nbformat_minor": 5
}
