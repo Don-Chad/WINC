{
 "cells": [
  {
   "cell_type": "code",
   "execution_count": null,
   "metadata": {},
   "outputs": [],
   "source": []
  }
 ],
 "metadata": {
  "kernelspec": {
   "display_name": "Python 3",
   "language": "python",
   "name": "python3"
  },
  "language_info": {
   "name": "python",
   "version": "3.6.15 (default, Jan  3 2023, 23:07:23) \n[GCC Apple LLVM 13.1.6 (clang-1316.0.21.2.5)]"
  },
  "vscode": {
   "interpreter": {
    "hash": "fc3441a37f62264e0ff47e6dc4c2fcf99abb0485ffba29648d98fceb418bff6f"
   }
  }
 },
 "nbformat": 4,
 "nbformat_minor": 5
}
